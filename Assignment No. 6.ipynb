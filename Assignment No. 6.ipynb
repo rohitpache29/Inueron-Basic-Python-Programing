{
 "cells": [
  {
   "cell_type": "markdown",
   "id": "de5e728d",
   "metadata": {},
   "source": [
    "# Assignment no 6"
   ]
  },
  {
   "cell_type": "markdown",
   "id": "0ac0866b",
   "metadata": {},
   "source": [
    "### 1. Write a Python Program to Display Fibonacci Sequence Using Recursion?"
   ]
  },
  {
   "cell_type": "code",
   "execution_count": 2,
   "id": "2a85edbd",
   "metadata": {},
   "outputs": [
    {
     "name": "stdout",
     "output_type": "stream",
     "text": [
      "fibonacci sequence\n",
      "0\n",
      "1\n",
      "1\n",
      "2\n",
      "3\n",
      "5\n",
      "8\n",
      "13\n",
      "21\n",
      "34\n"
     ]
    }
   ],
   "source": [
    "def fib(n):\n",
    "    if n <= 1:\n",
    "        return n\n",
    "    else:\n",
    "        return(fib(n-1) + fib(n-2))\n",
    "    \n",
    "nterms = 10\n",
    "\n",
    "if nterms <= 0:\n",
    "    print('Plese enter a positive integer')\n",
    "else:\n",
    "    print(\"fibonacci sequence\")\n",
    "    for i in range(nterms):\n",
    "        print(fib(i))"
   ]
  },
  {
   "cell_type": "markdown",
   "id": "f4f66cb3",
   "metadata": {},
   "source": [
    "### 2. Write a Python Program to Find Factorial of Number Using Recursion?"
   ]
  },
  {
   "cell_type": "code",
   "execution_count": 1,
   "id": "3df6b878",
   "metadata": {},
   "outputs": [
    {
     "name": "stdout",
     "output_type": "stream",
     "text": [
      "The factorial of 7 is 5040\n"
     ]
    }
   ],
   "source": [
    "def recur_factorial(n):\n",
    "   if n == 1:\n",
    "       return n\n",
    "   else:\n",
    "       return n*recur_factorial(n-1)\n",
    "\n",
    "num = 7\n",
    "\n",
    "# check if the number is negative\n",
    "if num < 0:\n",
    "   print(\"Sorry, factorial does not exist for negative numbers\")\n",
    "elif num == 0:\n",
    "   print(\"The factorial of 0 is 1\")\n",
    "else:\n",
    "   print(\"The factorial of\", num, \"is\", recur_factorial(num))"
   ]
  },
  {
   "cell_type": "markdown",
   "id": "d7b5111e",
   "metadata": {},
   "source": [
    "### 3. Write a Python Program to calculate your Body Mass Index?"
   ]
  },
  {
   "cell_type": "code",
   "execution_count": null,
   "id": "7fbeb580",
   "metadata": {},
   "outputs": [],
   "source": [
    "while True:\n",
    "    try:\n",
    "        # Taking user input\n",
    "        Height = float(input(\"Please enter your height in inches: \"))\n",
    "        Weight = float(input(\"Please enter your weight in pound: \"))\n",
    "    except ValueError:\n",
    "        # Validation error.\n",
    "        print(\"Please provide valid input.\")\n",
    "        continue  # Return to the start of the loop.\n",
    "    else:\n",
    "        if Height <= 0 or Weight <= 0:\n",
    "            print(\"Your input must not be zero or less.\")\n",
    "            continue\n",
    "        else:\n",
    "            # Calculate BMI\n",
    "            BMIIndex = round(Weight / (Height * Height) * 703, 2)\n",
    "\n",
    "            # Print the output\n",
    "            print(\"Your Body Mass Index is: \", BMIIndex)\n",
    "\n",
    "            if BMIIndex < 18.5:\n",
    "                print(\"Underweight.\")\n",
    "            elif BMIIndex <= 24.9:\n",
    "                print(\"Normal.\")\n",
    "            elif BMIIndex <= 29.9:\n",
    "                print(\"Overweight.\")\n",
    "            else:\n",
    "                print(\"Obese.\")\n",
    "        break\n",
    "\n"
   ]
  },
  {
   "cell_type": "markdown",
   "id": "dd844823",
   "metadata": {},
   "source": [
    "### 4. Write a Python Program to calculate the natural logarithm of any number?"
   ]
  },
  {
   "cell_type": "code",
   "execution_count": null,
   "id": "a6bc7ced",
   "metadata": {},
   "outputs": [],
   "source": [
    "import math\n",
    " \n",
    "# Printing the log base e of 14\n",
    "print (\"Natural logarithm of 14 is : \", end=\"\")\n",
    "print (math.log(14))\n",
    " \n",
    "# Printing the log base 5 of 14\n",
    "print (\"Logarithm base 5 of 14 is : \", end=\"\")\n",
    "print (math.log(14,5))"
   ]
  },
  {
   "cell_type": "markdown",
   "id": "5f69398b",
   "metadata": {},
   "source": [
    "### 5. Write a Python Program for cube sum of first n natural numbers?"
   ]
  },
  {
   "cell_type": "code",
   "execution_count": 2,
   "id": "8cdb3035",
   "metadata": {},
   "outputs": [
    {
     "name": "stdout",
     "output_type": "stream",
     "text": [
      "36\n"
     ]
    }
   ],
   "source": [
    "def sumOfSeries(n):\n",
    "   sum = 0\n",
    "   for i in range(1, n+1):\n",
    "      sum +=i*i*i\n",
    "   return sum\n",
    "# Driver Function\n",
    "n = 3\n",
    "print(sumOfSeries(n))"
   ]
  },
  {
   "cell_type": "code",
   "execution_count": null,
   "id": "18c7dede",
   "metadata": {},
   "outputs": [],
   "source": []
  }
 ],
 "metadata": {
  "kernelspec": {
   "display_name": "Python 3 (ipykernel)",
   "language": "python",
   "name": "python3"
  },
  "language_info": {
   "codemirror_mode": {
    "name": "ipython",
    "version": 3
   },
   "file_extension": ".py",
   "mimetype": "text/x-python",
   "name": "python",
   "nbconvert_exporter": "python",
   "pygments_lexer": "ipython3",
   "version": "3.9.12"
  }
 },
 "nbformat": 4,
 "nbformat_minor": 5
}
