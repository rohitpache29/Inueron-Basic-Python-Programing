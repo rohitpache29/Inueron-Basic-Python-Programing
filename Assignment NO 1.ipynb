{
 "cells": [
  {
   "cell_type": "markdown",
   "id": "d173cff7",
   "metadata": {},
   "source": [
    "## Assignment 1"
   ]
  },
  {
   "cell_type": "markdown",
   "id": "fd2a77da",
   "metadata": {},
   "source": [
    "1. Write a python program to print \"Hello Python\"?"
   ]
  },
  {
   "cell_type": "code",
   "execution_count": 5,
   "id": "7502b565",
   "metadata": {},
   "outputs": [
    {
     "name": "stdout",
     "output_type": "stream",
     "text": [
      "Hello Python\n"
     ]
    }
   ],
   "source": [
    "#this program prints hello python\n",
    "print(\"Hello Python\")"
   ]
  },
  {
   "cell_type": "markdown",
   "id": "dd579722",
   "metadata": {},
   "source": [
    "2. Write a Python program to do arithmetical operations addition and division.?"
   ]
  },
  {
   "cell_type": "code",
   "execution_count": 6,
   "id": "bd71c6fc",
   "metadata": {},
   "outputs": [
    {
     "name": "stdout",
     "output_type": "stream",
     "text": [
      "9\n"
     ]
    }
   ],
   "source": [
    "test1 = 3\n",
    "test2 = 6\n",
    "\n",
    "# using addition operation\n",
    "final = test1+test2\n",
    "print(final)"
   ]
  },
  {
   "cell_type": "code",
   "execution_count": 7,
   "id": "d7ad346b",
   "metadata": {},
   "outputs": [
    {
     "name": "stdout",
     "output_type": "stream",
     "text": [
      "0.5714285714285714\n"
     ]
    }
   ],
   "source": [
    "test1 = 4\n",
    "test2 = 7\n",
    "\n",
    "#using division operation\n",
    "final = test1 / test2\n",
    "print(final)"
   ]
  },
  {
   "cell_type": "markdown",
   "id": "544ff364",
   "metadata": {},
   "source": [
    "3. Write a Python program to find the area of a triangle?"
   ]
  },
  {
   "cell_type": "code",
   "execution_count": 10,
   "id": "bd8d641b",
   "metadata": {},
   "outputs": [
    {
     "name": "stdout",
     "output_type": "stream",
     "text": [
      "please enter your first side3\n",
      "please enter your secound side4\n",
      "please enter your third side6\n",
      "The area of the triangle is 5.33\n"
     ]
    }
   ],
   "source": [
    "# there are three sides of the triangle a,b and c\n",
    "a = float(input(\"please enter your first side\"))\n",
    "b = float(input(\"please enter your secound side\"))\n",
    "c = float(input(\"please enter your third side\"))\n",
    "\n",
    "# calculate the semi-perimeter\n",
    "r = (a+b+c) / 2\n",
    "\n",
    "#calculate the area\n",
    "\n",
    "area = (r*(r-a)*(r-b)*(r-c))**0.5\n",
    "\n",
    "print(\"The area of the triangle is %0.2f\"%area)"
   ]
  },
  {
   "cell_type": "markdown",
   "id": "1ad4e93b",
   "metadata": {},
   "source": [
    "4. Write a Python program to swap two variables?"
   ]
  },
  {
   "cell_type": "code",
   "execution_count": 11,
   "id": "e6647cab",
   "metadata": {},
   "outputs": [
    {
     "name": "stdout",
     "output_type": "stream",
     "text": [
      "value of x: 58\n",
      "value of y: 49\n"
     ]
    }
   ],
   "source": [
    "#swapping of two variables\n",
    "\n",
    "X = 49\n",
    "Y = 58\n",
    "\n",
    "X,Y = Y,X\n",
    "\n",
    "print(\"value of x:\",X)\n",
    "print(\"value of y:\",Y)\n"
   ]
  },
  {
   "cell_type": "markdown",
   "id": "7e4749db",
   "metadata": {},
   "source": [
    "5. Write a Python program to generate a random number?"
   ]
  },
  {
   "cell_type": "code",
   "execution_count": 17,
   "id": "6eb4e765",
   "metadata": {},
   "outputs": [
    {
     "name": "stdout",
     "output_type": "stream",
     "text": [
      "5\n"
     ]
    }
   ],
   "source": [
    "import random\n",
    "print(random.randint(0,9))"
   ]
  }
 ],
 "metadata": {
  "kernelspec": {
   "display_name": "Python 3 (ipykernel)",
   "language": "python",
   "name": "python3"
  },
  "language_info": {
   "codemirror_mode": {
    "name": "ipython",
    "version": 3
   },
   "file_extension": ".py",
   "mimetype": "text/x-python",
   "name": "python",
   "nbconvert_exporter": "python",
   "pygments_lexer": "ipython3",
   "version": "3.9.12"
  }
 },
 "nbformat": 4,
 "nbformat_minor": 5
}
