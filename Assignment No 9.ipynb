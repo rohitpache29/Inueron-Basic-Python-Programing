{
 "cells": [
  {
   "cell_type": "markdown",
   "id": "40cee2b4",
   "metadata": {},
   "source": [
    "## Assignment No. 9"
   ]
  },
  {
   "cell_type": "markdown",
   "id": "2b26004c",
   "metadata": {},
   "source": [
    "### 1. Write a Python program to check if the given number is a Disarium Number?"
   ]
  },
  {
   "cell_type": "code",
   "execution_count": null,
   "id": "dfbe85da",
   "metadata": {},
   "outputs": [],
   "source": [
    "def checkDisariumNumber():\n",
    "    in_num = input('Enter a Number: ')\n",
    "    sum = 0\n",
    "    for item in range(len(in_num)):\n",
    "        sum = sum + int(in_num[item])**(item+1)\n",
    "    if sum == int(in_num):\n",
    "        print(f'{in_num} is a Disarium Number')\n",
    "    else:\n",
    "        print(f'{in_num} is a Not Disarium Number') \n",
    "\n",
    "checkDisariumNumber()\n",
    "checkDisariumNumber()"
   ]
  },
  {
   "cell_type": "markdown",
   "id": "94e1c2b5",
   "metadata": {},
   "source": [
    "### 2. Write a Python program to print all disarium numbers between 1 to 100?"
   ]
  },
  {
   "cell_type": "code",
   "execution_count": null,
   "id": "5adad180",
   "metadata": {},
   "outputs": [],
   "source": [
    "def printDisariumNumbers(start=0,end=100):\n",
    "    output_num = []\n",
    "    for number in range(start,end+1):\n",
    "        sum = 0\n",
    "        for item in range(len(str(number))):\n",
    "            sum = sum + int(str(number)[item])**(item+1)\n",
    "        if sum == number:\n",
    "            output_num.append(number)\n",
    "    return output_num\n",
    "            \n",
    "        \n",
    "printDisariumNumbers(1,1000)\n"
   ]
  },
  {
   "cell_type": "markdown",
   "id": "0e0c9f40",
   "metadata": {},
   "source": [
    "### 3. Write a Python program to check if the given number is Happy Number?"
   ]
  },
  {
   "cell_type": "code",
   "execution_count": null,
   "id": "e0614887",
   "metadata": {},
   "outputs": [],
   "source": [
    "def checkHappyNumber():\n",
    "    in_num = input('Enter a Number: ')\n",
    "    in_num_duplicate = in_num\n",
    "    trackNumber = set()   \n",
    "    while True:\n",
    "        if in_num != '1' and str(in_num) not in trackNumber:\n",
    "            trackNumber.add(in_num)\n",
    "            sum = 0\n",
    "            for ele in range(len((in_num))):\n",
    "                sum = sum + int(in_num[ele])**2\n",
    "            in_num = str(sum)\n",
    "        elif str(in_num) in trackNumber:\n",
    "            print(f'{in_num_duplicate} is not a Happy Number')\n",
    "            break\n",
    "        else:\n",
    "            print(f'{in_num_duplicate} is a Happy Number')\n",
    "            break\n",
    "\n",
    "checkHappyNumber()\n",
    "checkHappyNumber()"
   ]
  },
  {
   "cell_type": "markdown",
   "id": "d18a98dc",
   "metadata": {},
   "source": [
    "### 4. Write a Python program to print all happy numbers between 1 and 100?"
   ]
  },
  {
   "cell_type": "code",
   "execution_count": null,
   "id": "95301790",
   "metadata": {},
   "outputs": [],
   "source": [
    "def checkHappyNumber(start=0,end=100):\n",
    "    happyNumbersList = []\n",
    "    for in_num in range(start,end+1):\n",
    "        in_num = str(in_num)\n",
    "        inum_holder = in_num\n",
    "        trackNumber = set()   \n",
    "        while True:\n",
    "            if in_num != '1' and str(in_num) not in trackNumber:\n",
    "                trackNumber.add(in_num)\n",
    "                sum = 0\n",
    "                for ele in range(len((in_num))):\n",
    "                    sum = sum + int(in_num[ele])**2\n",
    "                in_num = str(sum)\n",
    "            elif str(in_num) in trackNumber:\n",
    "                break\n",
    "            else:\n",
    "                happyNumbersList.append(int(inum_holder))\n",
    "                break\n",
    "    print(f'The Happy Numbers between {start} and {end} are {happyNumbersList}')\n",
    "    \n",
    "checkHappyNumber(0,100)"
   ]
  },
  {
   "cell_type": "markdown",
   "id": "4c3d24a3",
   "metadata": {},
   "source": [
    "### 5. Write a Python program to determine whether the given number is a Harshad Number?"
   ]
  },
  {
   "cell_type": "code",
   "execution_count": null,
   "id": "f80af9c6",
   "metadata": {},
   "outputs": [],
   "source": [
    "def checkHarshadNumber():\n",
    "    in_num = input('Enter a Number: ')\n",
    "    sum = 0\n",
    "    for item in range(len(in_num)):\n",
    "        sum = sum + int(in_num[item])\n",
    "    if int(in_num)%sum == 0:\n",
    "        print(f'{in_num} is a Harshad Number')\n",
    "    else:\n",
    "        print(f'{in_num} is a Not Harshad Number')\n",
    "        \n",
    "checkHarshadNumber()\n",
    "checkHarshadNumber()"
   ]
  },
  {
   "cell_type": "markdown",
   "id": "a5d95265",
   "metadata": {},
   "source": [
    "### 6. Write a Python program to print all pronic numbers between 1 and 100?"
   ]
  },
  {
   "cell_type": "code",
   "execution_count": null,
   "id": "8f4b30a0",
   "metadata": {},
   "outputs": [],
   "source": [
    "def printPronicNumbers(start=0,end=100):\n",
    "    outputList = []\n",
    "    for ele in range(start,end+1):\n",
    "        outputList.append((ele)*(ele+1))\n",
    "    print(outputList)\n",
    "                   \n",
    "printPronicNumbers()"
   ]
  },
  {
   "cell_type": "code",
   "execution_count": null,
   "id": "0ed5665c",
   "metadata": {},
   "outputs": [],
   "source": []
  }
 ],
 "metadata": {
  "kernelspec": {
   "display_name": "Python 3 (ipykernel)",
   "language": "python",
   "name": "python3"
  },
  "language_info": {
   "codemirror_mode": {
    "name": "ipython",
    "version": 3
   },
   "file_extension": ".py",
   "mimetype": "text/x-python",
   "name": "python",
   "nbconvert_exporter": "python",
   "pygments_lexer": "ipython3",
   "version": "3.9.12"
  }
 },
 "nbformat": 4,
 "nbformat_minor": 5
}
