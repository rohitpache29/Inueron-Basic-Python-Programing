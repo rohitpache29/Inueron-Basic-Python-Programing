{
 "cells": [
  {
   "cell_type": "markdown",
   "id": "930e7d5d",
   "metadata": {},
   "source": [
    "## Assignment 2"
   ]
  },
  {
   "cell_type": "markdown",
   "id": "4d41bd72",
   "metadata": {},
   "source": [
    "#### 1. Write a Python program to convert kilometers to miles?"
   ]
  },
  {
   "cell_type": "code",
   "execution_count": 2,
   "id": "3088b3a3",
   "metadata": {},
   "outputs": [
    {
     "name": "stdout",
     "output_type": "stream",
     "text": [
      "please enter km value: 34\n",
      "34.00 kilometers is equal to 21.13 miles\n"
     ]
    }
   ],
   "source": [
    "# user input \n",
    "kilometers= float(input(\"please enter km value: \"))\n",
    "\n",
    "cf=0.621371\n",
    "\n",
    "miles = kilometer * cf\n",
    "\n",
    "print('%0.2f kilometers is equal to %0.2f miles' %(kilometers,miles))"
   ]
  },
  {
   "cell_type": "markdown",
   "id": "5c22970e",
   "metadata": {},
   "source": [
    "#### 2. Write a Python program to convert Celsius to Fahrenheit?"
   ]
  },
  {
   "cell_type": "code",
   "execution_count": 5,
   "id": "e6cdefbc",
   "metadata": {},
   "outputs": [
    {
     "name": "stdout",
     "output_type": "stream",
     "text": [
      "please enter your values here: 56\n",
      "56.000000 celsius is equivalent to: 132.80 fehrenheit\n"
     ]
    }
   ],
   "source": [
    "# Temperature in celsius degree\n",
    "\n",
    "celsius =float(input('please enter your values here: '))\n",
    "\n",
    "#formula for converting the temp to fehrenheit\n",
    "\n",
    "fehrenheit = (celsius * 1.8) + 32\n",
    "\n",
    "print('%2f celsius is equivalent to: %.2f fehrenheit' %(celsius,fehrenheit))"
   ]
  },
  {
   "cell_type": "markdown",
   "id": "58c6cd92",
   "metadata": {},
   "source": [
    "#### 3. Write a Python program to display calendar?"
   ]
  },
  {
   "cell_type": "code",
   "execution_count": 2,
   "id": "711af934",
   "metadata": {},
   "outputs": [],
   "source": [
    "import calendar"
   ]
  },
  {
   "cell_type": "code",
   "execution_count": 4,
   "id": "ac824c31",
   "metadata": {},
   "outputs": [
    {
     "name": "stdout",
     "output_type": "stream",
     "text": [
      "please enter year here:2022\n",
      "plese enter month here:11\n",
      "   November 2022\n",
      "Mo Tu We Th Fr Sa Su\n",
      "    1  2  3  4  5  6\n",
      " 7  8  9 10 11 12 13\n",
      "14 15 16 17 18 19 20\n",
      "21 22 23 24 25 26 27\n",
      "28 29 30\n",
      "\n"
     ]
    }
   ],
   "source": [
    "year = int(input('please enter year here:'))\n",
    "month = int(input('plese enter month here:'))\n",
    "\n",
    "print(calendar.month(year,month))"
   ]
  },
  {
   "cell_type": "markdown",
   "id": "f3ef97ef",
   "metadata": {},
   "source": [
    "#### 4. Write a Python program to solve quadratic equation?"
   ]
  },
  {
   "cell_type": "code",
   "execution_count": 1,
   "id": "6d1cb9b2",
   "metadata": {},
   "outputs": [],
   "source": [
    "import math\n",
    "\n",
    "#function for finding to the root \n",
    "def equationroots(a,b,c):\n",
    "    dis=b*b-4*a*c\n",
    "    sqrt_val = math.sqrt(abs(dis))\n",
    "    \n",
    "    #checking condition for dis\n",
    "    if dis > 0:\n",
    "        print(\" real and diffrent roots \")\n",
    "        print((-b + sqrt_val)/(2*a))\n",
    "        print((-b - sqrt_val)/(2*a))\n",
    "        \n",
    "    elif dis ==0:\n",
    "        print(\"real and same roots\")\n",
    "        print(-b /(2*a))\n",
    "        \n",
    "    # when dis is less than 0\n",
    "    else:\n",
    "        print(\"complex Roots\")\n",
    "        print(-b / (2 * a ),\" + i \",sqrt_val)\n",
    "        print(-b / (2 * a ),\" - i \",sqrt_val)\n",
    "    \n",
    "    # Driver Program\n",
    "    a = 1 \n",
    "    b = 10\n",
    "    c = -24\n",
    "    \n",
    "    #if a is 0, then incorrect equation\n",
    "    if a == 0:\n",
    "        print(\"Input correct quadratic equation\")\n",
    "        \n",
    "    else:\n",
    "        equationroots(a,b,c)"
   ]
  },
  {
   "cell_type": "markdown",
   "id": "4b045f8c",
   "metadata": {},
   "source": [
    "#### 5. Write a Python program to swap two variables without temp variable?"
   ]
  },
  {
   "cell_type": "code",
   "execution_count": 2,
   "id": "9bd83df5",
   "metadata": {},
   "outputs": [
    {
     "name": "stdout",
     "output_type": "stream",
     "text": [
      "Enter your first no: 22\n",
      "Enter your second no: 33\n",
      "Old value of test1 is  22 and test2 33\n",
      "New value of test1 is 33 and test2 is 22\n"
     ]
    }
   ],
   "source": [
    "# this program is going to swap two program\n",
    "\n",
    "test1= int(input(\"Enter your first no: \"))\n",
    "test2= int(input(\"Enter your second no: \"))\n",
    "\n",
    "print('Old value of test1 is  {0} and test2 {1}'.format(test1, test2))\n",
    "\n",
    "test1=test1+test2\n",
    "test2=test1-test2\n",
    "test1=test1-test2\n",
    "\n",
    "# Display the result\n",
    "print(\"New value of test1 is {0} and test2 is {1}\".format(test1,test2))"
   ]
  },
  {
   "cell_type": "code",
   "execution_count": null,
   "id": "515e351f",
   "metadata": {},
   "outputs": [],
   "source": []
  }
 ],
 "metadata": {
  "kernelspec": {
   "display_name": "Python 3 (ipykernel)",
   "language": "python",
   "name": "python3"
  },
  "language_info": {
   "codemirror_mode": {
    "name": "ipython",
    "version": 3
   },
   "file_extension": ".py",
   "mimetype": "text/x-python",
   "name": "python",
   "nbconvert_exporter": "python",
   "pygments_lexer": "ipython3",
   "version": "3.9.12"
  }
 },
 "nbformat": 4,
 "nbformat_minor": 5
}
